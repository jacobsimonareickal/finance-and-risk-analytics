{
 "cells": [
  {
   "cell_type": "markdown",
   "metadata": {
    "id": "fd3fc8ea"
   },
   "source": [
    "# INTRODUCTION\n",
    "\n",
    "This case study is the Capstone Project of **upGrad PG Diploma - Data Science **. The **6 steps of Data Analysis** is used to present this analysis.\n",
    "\n",
    "\n",
    "Title: **Financial & Risk Analytics**\n",
    "\n",
    "Author: **Ankur Napa**\n",
    "\n",
    "Date: 14 Feb 2022\n",
    "\n",
    "***\n",
    "\n",
    "\n",
    "\n",
    "## Portfolio Manager : How to identify the right investment opportunity and recommend a portfolio as per the client's exact need?\n",
    "\n",
    "# STEP 1: ASK\n",
    "\n",
    "#### 1.0 Background\n",
    "\n",
    "We have 2 investors here: \n",
    "\n",
    "1. **Patrick Jyengar** - He is a conservative investor and he wants to invest 1 million dollars and expects double of his capital with less risk in the coming 5 years. He also wants to invest 500K dollars in a magazine(Naturo) and later wants to buy a minority portion of the same.\n",
    "\n",
    "2. **Peter Jyengar** - He is an aggressive investor and he wants to invest 1 million dollars into most high margin stocks & expects retunes within 5 years.\n",
    "\n",
    "#### 1.2 Business Task:\n",
    "\n",
    "```\n",
    "Analysing the portfolio of stocks to provide consultation on investment management based on the client’s requirements.\n",
    "\n",
    "```\n",
    "\n",
    "\n",
    "#### 1.3 Business Objectives:  \n",
    "1. What are the trends identified?\n",
    "2. How could these trends apply to customers?\n",
    "3. How could these trends help influence investment strategy?\n",
    "\n",
    "\n",
    "\n",
    "#### 1.4 Deliverables:\n",
    "1. A clean version of the final dataset.\n",
    "2. A well commented Jupyter notebook containing the entire work.\n",
    "3. A file containing a dashboard with all the important visualisations used in this project.\n",
    "4. A PPT file with an executive summary containing your understanding of the investor, insights and recommended steps of action for the investors.\n",
    "5. A video explaining the presentation: As the portfolio manager, you are expected to share a video presentation that you will share with the investors.\n",
    "\n",
    "\n",
    "#### 1.5 Key Stakeholders:\n",
    "1. **Patrick Jyengar** - A successful entrepreneur - Jayengar Waterworks\n",
    "2. **Peter Jyengar** - Inheritor of Patrick Jyengar\n",
    "\n",
    "\n",
    "***\n",
    "\n",
    "\n",
    "# STEP 2: PREPARE\n",
    "\n",
    "\n",
    "#### 2.1 Information on Data Source:\n",
    "1. The data is stored in 24 CSV files and this data is of 24 leading companies listed in **New York Stock Exchange** and 1 file market benchmark S&P 500 index prices for the same period.\n",
    "2. The information for every stock ranges from 1st October 2010 to 30th September 2020.\n",
    "3. The stocks belong to different domains:\n",
    "    - Technology/ITeS\n",
    "    - Travel/Aviation/Hospitality\n",
    "    - Banking/Financial Services and Insurance\n",
    "    - Pharmaceuticals/Healthcare/Life Sciences\n",
    "4. Data columns :\n",
    "    - Date\n",
    "    - Open price: Price of stock at the start of the day\n",
    "    - Close price: Price of stock at the end of the day\n",
    "    - High price: Highest price reached by the stock on that day\n",
    "    - Low price: Lowest price reached by the stock on that day\n",
    "    - Adjusted close price: Stock price adjusted to include the annual returns (dividends) that the company offers   to the shareholders\n",
    "    - Volume traded: Number of stocks traded on the day\n",
    "\n",
    "\n",
    "    \n",
    "#### 2.2 Limitations of Data Set:\n",
    "1. Data collected from 1st October 2010 to 30th September 2020.\n",
    "2. There are 24 different files we have to merge them in one file to do statistical analysis. \n",
    "\n",
    "***"
   ]
  },
  {
   "cell_type": "markdown",
   "metadata": {
    "_cell_guid": "38859931-1e88-4365-9514-3ba368222cb5",
    "_uuid": "07d219e0-c65f-478c-9734-cb6cdc62a992",
    "id": "amber-queen",
    "papermill": {
     "duration": 0.022309,
     "end_time": "2021-07-09T05:00:53.879819",
     "exception": false,
     "start_time": "2021-07-09T05:00:53.857510",
     "status": "completed"
    },
    "tags": []
   },
   "source": [
    "# STEP 3: PROCESS\n",
    "\n",
    "We are using Python to prepare and process the data.\n",
    "\n",
    "\n",
    "#### 3.1 Preparing the Environment\n",
    "\n",
    "The ```numPy, pandas, matplotlib, datetime``` packages are installed and aliased for easy reading."
   ]
  },
  {
   "cell_type": "code",
   "execution_count": null,
   "metadata": {
    "_cell_guid": "53bedab9-16e6-459a-b3ce-e0c6449b246f",
    "_uuid": "27e4f97b-1e17-462c-9cfe-d044b42cc1a7",
    "execution": {
     "iopub.execute_input": "2021-07-09T05:00:53.934508Z",
     "iopub.status.busy": "2021-07-09T05:00:53.933929Z",
     "iopub.status.idle": "2021-07-09T05:00:53.936961Z",
     "shell.execute_reply": "2021-07-09T05:00:53.936299Z",
     "shell.execute_reply.started": "2021-07-09T05:00:04.624347Z"
    },
    "id": "labeled-helmet",
    "jupyter": {
     "outputs_hidden": false
    },
    "papermill": {
     "duration": 0.034709,
     "end_time": "2021-07-09T05:00:53.937136",
     "exception": false,
     "start_time": "2021-07-09T05:00:53.902427",
     "status": "completed"
    },
    "tags": []
   },
   "outputs": [],
   "source": [
    "# import packages and alias\n",
    "import numpy as np # data arrays\n",
    "import pandas as pd # data structure and data analysis\n",
    "import matplotlib as plt # data visualization\n",
    "import matplotlib.pyplot as plt\n",
    "import datetime as dt # date time\n",
    "import seaborn as sns\n",
    "import warnings\n",
    "warnings.filterwarnings(\"ignore\")\n",
    "%matplotlib inline\n",
    "sns.set_theme()\n",
    "pd.set_option('display.max_columns', None)\n",
    "import math"
   ]
  },
  {
   "cell_type": "markdown",
   "metadata": {
    "_cell_guid": "41fc2d38-ee2b-4093-af09-c9d5b40b3ad1",
    "_uuid": "ac279df1-646a-43ba-9f30-36fe2b154e66",
    "id": "satisfied-swing",
    "papermill": {
     "duration": 0.02237,
     "end_time": "2021-07-09T05:00:53.982317",
     "exception": false,
     "start_time": "2021-07-09T05:00:53.959947",
     "status": "completed"
    },
    "tags": []
   },
   "source": [
    "#### 3.2 Importing data set"
   ]
  },
  {
   "cell_type": "markdown",
   "metadata": {
    "id": "incomplete-serve",
    "papermill": {
     "duration": 0.022413,
     "end_time": "2021-07-09T05:00:54.027500",
     "exception": false,
     "start_time": "2021-07-09T05:00:54.005087",
     "status": "completed"
    },
    "tags": []
   },
   "source": [
    "Reading in the selected file."
   ]
  },
  {
   "cell_type": "code",
   "execution_count": null,
   "metadata": {
    "_cell_guid": "7b95c099-c3e8-46f8-b60b-cbfaac7c3cd2",
    "_uuid": "c67360eb-49d0-4d8c-b436-ae473e3c7623",
    "execution": {
     "iopub.execute_input": "2021-07-09T05:00:54.077932Z",
     "iopub.status.busy": "2021-07-09T05:00:54.077310Z",
     "iopub.status.idle": "2021-07-09T05:00:54.102755Z",
     "shell.execute_reply": "2021-07-09T05:00:54.102214Z",
     "shell.execute_reply.started": "2021-07-09T05:00:04.638259Z"
    },
    "id": "drawn-senator",
    "jupyter": {
     "outputs_hidden": false
    },
    "papermill": {
     "duration": 0.052581,
     "end_time": "2021-07-09T05:00:54.102905",
     "exception": false,
     "start_time": "2021-07-09T05:00:54.050324",
     "status": "completed"
    },
    "tags": []
   },
   "outputs": [],
   "source": [
    "# read_csv function to read the required CSV file\n",
    "#----------------------------------------------**AVIATION**----------------------------------------------------------\n",
    "\n",
    "\n",
    "#Importing Aviation Data - AAL\n",
    "AAL_df = pd.read_csv('AAL.csv')\n",
    "\n",
    "#Importing Aviation Data - ALGT\n",
    "ALGT_df = pd.read_csv('ALGT.csv')\n",
    "\n",
    "#Importing Aviation Data - ALK\n",
    "ALK_df = pd.read_csv('ALK.csv')\n",
    "\n",
    "#Importing Aviation Data - DAL\n",
    "DAL_df = pd.read_csv('DAL.csv')\n",
    "\n",
    "#Importing Aviation Data - HA\n",
    "HA_df = pd.read_csv('HA.csv')\n",
    "\n",
    "#Importing Aviation Data - LUV\n",
    "LUV_df = pd.read_csv('LUV.csv')\n",
    "\n",
    "#----------------------------------------------**Finance**----------------------------------------------------------\n",
    "\n",
    "#Importing Finance Data - BCS\n",
    "BCS_df = pd.read_csv('BCS.csv')\n",
    "\n",
    "#Importing Finance Data - CS\n",
    "CS_df = pd.read_csv('CS.csv')\n",
    "\n",
    "#Importing Finance Data - DB\n",
    "DB_df = pd.read_csv('DB.csv')\n",
    "\n",
    "#Importing Finance Data - GS\n",
    "GS_df = pd.read_csv('GS.csv')\n",
    "\n",
    "#Importing Finance Data - MS\n",
    "MS_df = pd.read_csv('MS.csv')\n",
    "\n",
    "#Importing Finance Data - WFC\n",
    "WFC_df = pd.read_csv('WFC.csv')\n",
    "\n",
    "#----------------------------------------------**Pharma Health care**----------------------------------------------------------\n",
    "\n",
    "#Importing Pharma_Healthcare Data - BHC\n",
    "BHC_df = pd.read_csv('BHC.csv')\n",
    "\n",
    "#Importing Healthcare_Pharma Data - JNJ\n",
    "JNJ_df = pd.read_csv('JNJ.csv')\n",
    "\n",
    "#Importing Healthcare_Pharma Data - MRK\n",
    "MRK_df = pd.read_csv('MRK.csv')\n",
    "\n",
    "#Importing Healthcare_Pharma Data - PFE\n",
    "PFE_df = pd.read_csv('PFE.csv')\n",
    "\n",
    "#Importing Healthcare_Pharma Data - RHHBY\n",
    "RHHBY_df = pd.read_csv('RHHBY.csv')\n",
    "\n",
    "#Importing Healthcare_Pharma Data - UNH\n",
    "UNH_df = pd.read_csv('UNH.csv')\n",
    "\n",
    "#----------------------------------------------**Technology**----------------------------------------------------------\n",
    "\n",
    "\n",
    "\n",
    "#Importing Technology Data - AAPL\n",
    "AAPL_df = pd.read_csv('AAPL.csv')\n",
    "\n",
    "#Importing Technology Data - AMZN\n",
    "AMZN_df = pd.read_csv('AMZN.csv')\n",
    "\n",
    "#Importing Technology Data - FB\n",
    "FB_df = pd.read_csv('FB.csv')\n",
    "\n",
    "#Importing Technology Data - GOOG\n",
    "GOOG_df = pd.read_csv('GOOG.csv')\n",
    "\n",
    "#Importing Technology Data - IBM\n",
    "IBM_df = pd.read_csv('IBM.csv')\n",
    "\n",
    "#Importing Technology Data - MSFT\n",
    "MSFT_df = pd.read_csv('MSFT.csv')\n",
    "\n",
    "\n",
    "#----------------------------------------------**S&P500**----------------------------------------------------------\n",
    "\n",
    "\n",
    "# Importing Csv file of the market reference (S&P500)\n",
    "SP500_df = pd.read_csv('S&P500.csv')\n"
   ]
  },
  {
   "cell_type": "code",
   "execution_count": null,
   "metadata": {
    "id": "d0f1558e"
   },
   "outputs": [],
   "source": [
    "#For showing all outputs in one cell \n",
    "from IPython.core.interactiveshell import InteractiveShell\n",
    "InteractiveShell.ast_node_interactivity = \"all\""
   ]
  },
  {
   "cell_type": "markdown",
   "metadata": {
    "_cell_guid": "7d80d7cf-e7f6-4951-9a8d-ec20258a2f2f",
    "_uuid": "23415393-9f2d-48ff-9cf7-9b56d0b9d2fc",
    "id": "operating-biology",
    "papermill": {
     "duration": 0.022429,
     "end_time": "2021-07-09T05:00:54.148159",
     "exception": false,
     "start_time": "2021-07-09T05:00:54.125730",
     "status": "completed"
    },
    "tags": []
   },
   "source": [
    "#### 3.3 Data cleaning and manipulation\n",
    "\n",
    "##### Steps\n",
    "\n",
    "1. Observe and familiarize with data\n",
    "\n",
    "2. Check for null or missing values\n",
    "\n",
    "3. Perform sanity check of data"
   ]
  },
  {
   "cell_type": "markdown",
   "metadata": {
    "id": "personal-helmet",
    "papermill": {
     "duration": 0.022295,
     "end_time": "2021-07-09T05:00:54.193236",
     "exception": false,
     "start_time": "2021-07-09T05:00:54.170941",
     "status": "completed"
    },
    "tags": []
   },
   "source": [
    "### Previewing using head function to show the first 5 rows of daily_activity to familiarise with the data."
   ]
  },
  {
   "cell_type": "markdown",
   "metadata": {
    "id": "6a316395"
   },
   "source": [
    "#### Checking Aviation Data"
   ]
  },
  {
   "cell_type": "code",
   "execution_count": null,
   "metadata": {
    "_cell_guid": "4126117c-5d8d-47f5-be26-ad0ef695ec29",
    "_uuid": "941abfee-ce91-435a-9a7f-22e129b45d30",
    "execution": {
     "iopub.execute_input": "2021-07-09T05:00:54.250511Z",
     "iopub.status.busy": "2021-07-09T05:00:54.249724Z",
     "iopub.status.idle": "2021-07-09T05:00:54.278117Z",
     "shell.execute_reply": "2021-07-09T05:00:54.278594Z",
     "shell.execute_reply.started": "2021-07-09T05:00:04.698951Z"
    },
    "id": "collectible-country",
    "jupyter": {
     "outputs_hidden": false
    },
    "outputId": "1c4bdc6f-2726-4ca1-8668-a1d9b09402e4",
    "papermill": {
     "duration": 0.062841,
     "end_time": "2021-07-09T05:00:54.278767",
     "exception": false,
     "start_time": "2021-07-09T05:00:54.215926",
     "status": "completed"
    },
    "tags": []
   },
   "outputs": [],
   "source": [
    "#Checking the data - AAL\n",
    "print('---------AAL-----------')\n",
    "AAL_df.head()\n",
    "\n",
    "#Checking the data - ALGT\n",
    "print('---------ALGT-----------')\n",
    "ALGT_df.head()\n",
    "\n",
    "#Checking the data - ALK\n",
    "print('---------ALK-----------')\n",
    "ALK_df.head()\n",
    "\n",
    "#Checking the data - DAL\n",
    "print('---------DAL-----------')\n",
    "DAL_df.head()\n",
    "\n",
    "#Checking the data - HA\n",
    "print('---------HA-----------')\n",
    "HA_df.head()\n",
    "\n",
    "#Checking the data - LUV\n",
    "print('---------LUV-----------')\n",
    "LUV_df.head()"
   ]
  },
  {
   "cell_type": "markdown",
   "metadata": {
    "id": "858d351a"
   },
   "source": [
    "#### Checking Finance Data"
   ]
  },
  {
   "cell_type": "code",
   "execution_count": null,
   "metadata": {
    "id": "8cb0980d",
    "outputId": "dd80f5ab-c2ca-4fd7-daf0-d6dd497214c3"
   },
   "outputs": [],
   "source": [
    "#Checking the data - BCS\n",
    "print('---------BCS-----------')\n",
    "BCS_df.head()\n",
    "\n",
    "#Checking the data - CS\n",
    "print('---------CS-----------')\n",
    "CS_df.head()\n",
    "\n",
    "#Checking the data - DB\n",
    "print('---------DB-----------')\n",
    "DB_df.head()\n",
    "\n",
    "#Checking the data - GS\n",
    "print('---------GS-----------')\n",
    "GS_df.head()\n",
    "\n",
    "#Checking the data - MS\n",
    "print('---------MS-----------')\n",
    "MS_df.head()\n",
    "\n",
    "#Checking the data - WFC\n",
    "print('---------WFC-----------')\n",
    "WFC_df.head()"
   ]
  },
  {
   "cell_type": "markdown",
   "metadata": {
    "id": "f0f81332"
   },
   "source": [
    "#### Checking Pharma_Healthcare Data"
   ]
  },
  {
   "cell_type": "code",
   "execution_count": null,
   "metadata": {
    "id": "39e6a8f8",
    "outputId": "c9d2a979-1c36-4fc4-9d9f-1d0b01ec75b4"
   },
   "outputs": [],
   "source": [
    "#Checking the data - BHC\n",
    "print('---------BHC-----------')\n",
    "BHC_df.head()\n",
    "\n",
    "#Checking the data - JNJ\n",
    "print('---------JNJ-----------')\n",
    "JNJ_df.head()\n",
    "\n",
    "#Checking the data - MRK\n",
    "print('---------MRK-----------')\n",
    "MRK_df.head()\n",
    "\n",
    "#Checking the data - PFE\n",
    "print('---------PFE-----------')\n",
    "PFE_df.head()\n",
    "\n",
    "#Checking the data - RHHBY\n",
    "print('---------RHHBY-----------')\n",
    "RHHBY_df.head()\n",
    "\n",
    "#Checking the data - UNH\n",
    "print('---------UNH-----------')\n",
    "UNH_df.head()"
   ]
  },
  {
   "cell_type": "markdown",
   "metadata": {
    "id": "a5cc7353"
   },
   "source": [
    "#### Checking Technology Data"
   ]
  },
  {
   "cell_type": "code",
   "execution_count": null,
   "metadata": {
    "id": "686cf7cb",
    "outputId": "1bf43e8e-733e-4811-d021-f967997fd5fb"
   },
   "outputs": [],
   "source": [
    "#Checking the data - AAPL\n",
    "print('---------AAPL-----------')\n",
    "AAPL_df.head()\n",
    "\n",
    "#Checking the data - AMZN\n",
    "print('---------AMZN-----------')\n",
    "AMZN_df.head()\n",
    "\n",
    "#Checking the data - FB\n",
    "print('---------FB-----------')\n",
    "FB_df.head()\n",
    "\n",
    "#Checking the data - GOOG\n",
    "print('---------GOOG-----------')\n",
    "GOOG_df.head()\n",
    "\n",
    "#Checking the data - IBM\n",
    "print('---------IBM-----------')\n",
    "IBM_df.head()\n",
    "\n",
    "#Checking the data - MSFT\n",
    "print('---------MSFT-----------')\n",
    "MSFT_df.head()"
   ]
  },
  {
   "cell_type": "markdown",
   "metadata": {
    "id": "indie-windows",
    "papermill": {
     "duration": 0.023195,
     "end_time": "2021-07-09T05:00:54.325817",
     "exception": false,
     "start_time": "2021-07-09T05:00:54.302622",
     "status": "completed"
    },
    "tags": []
   },
   "source": [
    "Now we have imported all the required data files and checked top 5 rows of data.  \n",
    "    \n",
    "Then Dropping Rows Only if All the Values are Null"
   ]
  },
  {
   "cell_type": "code",
   "execution_count": null,
   "metadata": {
    "_cell_guid": "af5c7249-a592-4e10-bacd-4188ce32fabc",
    "_uuid": "29266e28-766a-41e4-bd3f-1c945baea3bb",
    "execution": {
     "iopub.execute_input": "2021-07-09T05:00:54.380669Z",
     "iopub.status.busy": "2021-07-09T05:00:54.379945Z",
     "iopub.status.idle": "2021-07-09T05:00:54.383024Z",
     "shell.execute_reply": "2021-07-09T05:00:54.382488Z",
     "shell.execute_reply.started": "2021-07-09T05:00:04.740277Z"
    },
    "id": "stunning-lincoln",
    "jupyter": {
     "outputs_hidden": false
    },
    "papermill": {
     "duration": 0.033758,
     "end_time": "2021-07-09T05:00:54.383172",
     "exception": false,
     "start_time": "2021-07-09T05:00:54.349414",
     "status": "completed"
    },
    "tags": []
   },
   "outputs": [],
   "source": [
    "AAL_df.dropna(how='all',inplace = True)\n",
    "ALGT_df.dropna(how='all',inplace = True)\n",
    "ALK_df.dropna(how='all',inplace = True)\n",
    "DAL_df.dropna(how='all',inplace = True)\n",
    "HA_df.dropna(how='all',inplace = True)\n",
    "LUV_df.dropna(how='all',inplace = True)\n",
    "BCS_df.dropna(how='all',inplace = True)\n",
    "CS_df.dropna(how='all',inplace = True)\n",
    "DB_df.dropna(how='all',inplace = True)\n",
    "GS_df.dropna(how='all',inplace = True)\n",
    "MS_df.dropna(how='all',inplace = True)\n",
    "WFC_df.dropna(how='all',inplace = True)\n",
    "BHC_df.dropna(how='all',inplace = True)\n",
    "JNJ_df.dropna(how='all',inplace = True)\n",
    "MRK_df.dropna(how='all',inplace = True)\n",
    "PFE_df.dropna(how='all',inplace = True)\n",
    "RHHBY_df.dropna(how='all',inplace = True)\n",
    "UNH_df.dropna(how='all',inplace = True)\n",
    "AAPL_df.dropna(how='all',inplace = True)\n",
    "AMZN_df.dropna(how='all',inplace = True)\n",
    "FB_df.dropna(how='all',inplace = True)\n",
    "GOOG_df.dropna(how='all',inplace = True)\n",
    "IBM_df.dropna(how='all',inplace = True)\n",
    "MSFT_df.dropna(how='all',inplace = True)\n",
    "SP500_df.dropna(how='all',inplace = True)"
   ]
  },
  {
   "cell_type": "markdown",
   "metadata": {
    "id": "FcJFV6CHmkU6"
   },
   "source": [
    "In the initial stage itself we have dropped the null values."
   ]
  },
  {
   "cell_type": "markdown",
   "metadata": {
    "id": "d7937fda"
   },
   "source": [
    "### Keeping necessary coloumns\n",
    "For the analysis methodology we are going to keep only nesessary coloumns as below"
   ]
  },
  {
   "cell_type": "code",
   "execution_count": null,
   "metadata": {
    "id": "eb775a6f"
   },
   "outputs": [],
   "source": [
    "SP500_df = SP500_df[['Date','Close','Volume']]\n",
    "AAL_df = AAL_df[['Date','Close','Volume']]\n",
    "ALGT_df = ALGT_df[['Date','Close','Volume']]\n",
    "ALK_df = ALK_df[['Date','Close','Volume']]\n",
    "DAL_df = DAL_df[['Date','Close','Volume']]\n",
    "HA_df = HA_df[['Date','Close','Volume']]\n",
    "LUV_df = LUV_df[['Date','Close','Volume']]\n",
    "BCS_df = BCS_df[['Date','Close','Volume']]\n",
    "CS_df = CS_df[['Date','Close','Volume']]\n",
    "DB_df = DB_df[['Date','Close','Volume']]\n",
    "GS_df = GS_df[['Date','Close','Volume']]\n",
    "MS_df = MS_df[['Date','Close','Volume']]\n",
    "WFC_df = WFC_df[['Date','Close','Volume']]\n",
    "BHC_df = BHC_df[['Date','Close','Volume']]\n",
    "JNJ_df = JNJ_df[['Date','Close','Volume']]\n",
    "MRK_df = MRK_df[['Date','Close','Volume']]\n",
    "PFE_df = PFE_df[['Date','Close','Volume']]\n",
    "RHHBY_df = RHHBY_df[['Date','Close','Volume']]\n",
    "UNH_df = UNH_df[['Date','Close','Volume']]\n",
    "AAPL_df = AAPL_df[['Date','Close','Volume']]\n",
    "AMZN_df = AMZN_df[['Date','Close','Volume']]\n",
    "MSFT_df = MSFT_df[['Date','Close','Volume']]\n",
    "FB_df = FB_df[['Date','Close','Volume']]\n",
    "GOOG_df = GOOG_df[['Date','Close','Volume']]\n",
    "IBM_df = IBM_df[['Date','Close','Volume']]\n",
    "MSFT_df = MSFT_df[['Date','Close','Volume']]"
   ]
  },
  {
   "cell_type": "markdown",
   "metadata": {
    "id": "427c44dd"
   },
   "source": [
    "### Adding suffix to the columns of the dataframe\n",
    "For better readability specially aftet merging the coloumns we are adding suffix to identify which coloumn belongs to which stock. "
   ]
  },
  {
   "cell_type": "code",
   "execution_count": null,
   "metadata": {
    "id": "da8ab586"
   },
   "outputs": [],
   "source": [
    "SP500_df.columns = SP500_df.columns.map(lambda x : x + '_SP500' if x !='Date'else x)\n",
    "AAL_df.columns = AAL_df.columns.map(lambda x : x + '_AAL' if x !='Date'else x)\n",
    "ALGT_df.columns = ALGT_df.columns.map(lambda x : x + '_ALGT' if x !='Date'else x)\n",
    "ALK_df.columns = ALK_df.columns.map(lambda x : x + '_ALK' if x !='Date'else x)\n",
    "DAL_df.columns = DAL_df.columns.map(lambda x : x + '_DAL' if x !='Date'else x)\n",
    "HA_df.columns = HA_df.columns.map(lambda x : x + '_HA' if x !='Date'else x)\n",
    "LUV_df.columns = LUV_df.columns.map(lambda x : x + '_LUV' if x !='Date'else x)\n",
    "BCS_df.columns = BCS_df.columns.map(lambda x : x + '_BCS' if x !='Date'else x)\n",
    "CS_df.columns = CS_df.columns.map(lambda x : x + '_CS' if x !='Date'else x)\n",
    "DB_df.columns = DB_df.columns.map(lambda x : x + '_DB' if x !='Date'else x)\n",
    "GS_df.columns = GS_df.columns.map(lambda x : x + '_GS' if x !='Date'else x)\n",
    "MS_df.columns = MS_df.columns.map(lambda x : x + '_MS' if x !='Date'else x)\n",
    "WFC_df.columns = WFC_df.columns.map(lambda x : x + '_WFC' if x !='Date'else x)\n",
    "BHC_df.columns = BHC_df.columns.map(lambda x : x + '_BHC' if x !='Date'else x)\n",
    "JNJ_df.columns = JNJ_df.columns.map(lambda x : x + '_JNJ' if x !='Date'else x)\n",
    "MRK_df.columns = MRK_df.columns.map(lambda x : x + '_MRK' if x !='Date'else x)\n",
    "PFE_df.columns = PFE_df.columns.map(lambda x : x + '_PFE' if x !='Date'else x)\n",
    "RHHBY_df.columns = RHHBY_df.columns.map(lambda x : x + '_RHHBY' if x !='Date'else x)\n",
    "UNH_df.columns = UNH_df.columns.map(lambda x : x + '_UNH' if x !='Date'else x)\n",
    "AAPL_df.columns = AAPL_df.columns.map(lambda x : x + '_AAPL' if x !='Date'else x)\n",
    "AMZN_df.columns = AMZN_df.columns.map(lambda x : x + '_AMZN' if x !='Date'else x)\n",
    "FB_df.columns = FB_df.columns.map(lambda x : x + '_FB' if x !='Date'else x)\n",
    "GOOG_df.columns = GOOG_df.columns.map(lambda x : x + '_GOOG' if x !='Date'else x)\n",
    "IBM_df.columns = IBM_df.columns.map(lambda x : x + '_IBM' if x !='Date'else x)\n",
    "MSFT_df.columns = MSFT_df.columns.map(lambda x : x + '_MSFT' if x !='Date'else x)"
   ]
  },
  {
   "cell_type": "markdown",
   "metadata": {
    "id": "de0d4e2f"
   },
   "source": [
    "### Missing values treatment\n",
    "Checking if there are any missing values in the selected coloumns.\n",
    "\n"
   ]
  },
  {
   "cell_type": "code",
   "execution_count": null,
   "metadata": {
    "id": "c21f8bf5",
    "outputId": "cba72ac8-a06d-4fc0-fcf9-5d3f5cf6ba78"
   },
   "outputs": [],
   "source": [
    "print('No missing data -->SP500') if sum(SP500_df.isnull().sum()) == 0 else (SP500_df.isnull().sum())/len(SP500_df)\n",
    "print('No missing data -->AAL') if sum(AAL_df.isnull().sum()) == 0 else (AAL_df.isnull().sum())/len(AAL_df)\n",
    "print('No missing data -->ALGT') if sum(ALGT_df.isnull().sum()) == 0 else (ALGT_df.isnull().sum())/len(ALGT_df)\n",
    "print('No missing data -->ALK') if sum(ALK_df.isnull().sum()) == 0 else (ALK_df.isnull().sum())/len(ALK_df)\n",
    "print('No missing data -->DAL') if sum(DAL_df.isnull().sum()) == 0 else (DAL_df.isnull().sum())/len(DAL_df)\n",
    "print('No missing data -->HA') if sum(HA_df.isnull().sum()) == 0 else (HA_df.isnull().sum())/len(HA_df)\n",
    "print('No missing data -->LUV') if sum(LUV_df.isnull().sum()) == 0 else (LUV_df.isnull().sum())/len(LUV_df)\n",
    "print('No missing data -->BCS') if sum(BCS_df.isnull().sum()) == 0 else (BCS_df.isnull().sum())/len(BCS_df)\n",
    "print('No missing data -->Cs') if sum(CS_df.isnull().sum()) == 0 else (CS_df.isnull().sum())/len(CS_df)\n",
    "print('No missing data -->DB') if sum(DB_df.isnull().sum()) == 0 else (DB_df.isnull().sum())/len(DB_df)\n",
    "print('No missing data -->GS') if sum(GS_df.isnull().sum()) == 0 else (GS_df.isnull().sum())/len(GS_df)\n",
    "print('No missing data -->MS') if sum(MS_df.isnull().sum()) == 0 else (MS_df.isnull().sum())/len(MS_df)\n",
    "print('No missing data -->WFC ') if sum(WFC_df.isnull().sum()) == 0 else (WFC_df.isnull().sum())/len(WFC_df)\n",
    "print('No missing data -->BHC') if sum(BHC_df.isnull().sum()) == 0 else (BHC_df.isnull().sum())/len(BHC_df)\n",
    "print('No missing data -->JNJ') if sum(JNJ_df.isnull().sum()) == 0 else (JNJ_df.isnull().sum())/len(JNJ_df)\n",
    "print('No missing data -->MRK') if sum(MRK_df.isnull().sum()) == 0 else (MRK_df.isnull().sum())/len(MRK_df)\n",
    "print('No missing data -->PFE') if sum(PFE_df.isnull().sum()) == 0 else (PFE_df.isnull().sum())/len(PFE_df)\n",
    "print('No missing data -->RHHBY') if sum(RHHBY_df.isnull().sum()) == 0 else (RHHBY_df.isnull().sum())/len(RHHBY_df)\n",
    "print('No missing data -->UNH') if sum(UNH_df.isnull().sum()) == 0 else (UNH_df.isnull().sum())/len(UNH_df)\n",
    "print('No missing data -->AAPL') if sum(AAPL_df.isnull().sum()) == 0 else (AAPL_df.isnull().sum())/len(AAPL_df)\n",
    "print('No missing data -->AMZN') if sum(AMZN_df.isnull().sum()) == 0 else (AMZN_df.isnull().sum())/len(AMZN_df)\n",
    "print('No missing data -->FB') if sum(FB_df.isnull().sum()) == 0 else (FB_df.isnull().sum())/len(FB_df)\n",
    "print('No missing data -->GOOG') if sum(GOOG_df.isnull().sum()) == 0 else (GOOG_df.isnull().sum())/len(GOOG_df)\n",
    "print('No missing data -->IBM') if sum(IBM_df.isnull().sum()) == 0 else (IBM_df.isnull().sum())/len(IBM_df)\n",
    "print('No missing data -->MSFT') if sum(MSFT_df.isnull().sum()) == 0 else (MSFT_df.isnull().sum())/len(MSFT_df)\n",
    "\n"
   ]
  },
  {
   "cell_type": "markdown",
   "metadata": {
    "id": "3810b898"
   },
   "source": [
    "There are no missing values in the of the datasets."
   ]
  },
  {
   "cell_type": "markdown",
   "metadata": {
    "id": "1rHtb1n2n4NC"
   },
   "source": [
    "### Merging the dataframes of All Industry and inspecting the dataframe"
   ]
  },
  {
   "cell_type": "code",
   "execution_count": null,
   "metadata": {
    "id": "062cdb0c"
   },
   "outputs": [],
   "source": [
    "#Merging the dataframes of All Industry and inspecting the dataframe\n",
    "aviation_df  = AAL_df.merge(ALGT_df, on='Date',how='inner').merge(ALK_df, on='Date',how='inner').merge(DAL_df, on='Date',how='inner').merge(HA_df, on='Date',how='inner').merge(LUV_df, on='Date',how='inner')\n",
    "finance_df  = BCS_df.merge(CS_df, on='Date',how='inner').merge(DB_df, on='Date',how='inner').merge(GS_df, on='Date',how='inner').merge(MS_df, on='Date',how='inner').merge(WFC_df, on='Date',how='inner')\n",
    "healthcare_df = BHC_df.merge(JNJ_df, on='Date',how='inner').merge(MRK_df, on='Date',how='inner').merge(PFE_df, on='Date',how='inner').merge(RHHBY_df, on='Date',how='inner').merge(UNH_df, on='Date',how='inner')\n",
    "technology_df = AAPL_df.merge(AMZN_df, on='Date',how='inner').merge(FB_df, on='Date',how='inner').merge(GOOG_df, on='Date',how='inner').merge(IBM_df, on='Date',how='inner').merge(MSFT_df, on='Date',how='inner')"
   ]
  },
  {
   "cell_type": "markdown",
   "metadata": {
    "id": "3240eecc"
   },
   "source": [
    "Showing basic information of data and inspecting all dataframes"
   ]
  },
  {
   "cell_type": "code",
   "execution_count": null,
   "metadata": {
    "id": "f33e2c5b",
    "outputId": "e82d14de-13fe-46ad-c89b-7b0a7d68c42d"
   },
   "outputs": [],
   "source": [
    "print('----------------------------------------------**AVIATION**----------------------------------------------------------')\n",
    "aviation_df.head()\n",
    "print('----------------------------------------------**FINANCE**----------------------------------------------------------')\n",
    "finance_df.head()\n",
    "print('----------------------------------------------**HEALTH CARE**----------------------------------------------------------')\n",
    "healthcare_df.head()\n",
    "print('----------------------------------------------**TECHNOLOGY**----------------------------------------------------------')\n",
    "technology_df.head()"
   ]
  },
  {
   "cell_type": "markdown",
   "metadata": {
    "id": "WfoUsv4joSCo"
   },
   "source": [
    "### Observation :\n",
    "As seen above the dataframes have been merged properly in their respective domains. "
   ]
  },
  {
   "cell_type": "markdown",
   "metadata": {
    "id": "be3c1e8f"
   },
   "source": [
    "### Merging all the dataframes along with the Market Reference (S&P500) in to one single file for further analysis."
   ]
  },
  {
   "cell_type": "code",
   "execution_count": null,
   "metadata": {
    "id": "ad71ff16",
    "outputId": "5d58f5d9-54ee-4385-b788-7708f661c36c"
   },
   "outputs": [],
   "source": [
    "AllStocks_df=aviation_df.merge(finance_df, on='Date',how='inner').merge(healthcare_df, on='Date',how='inner').merge(technology_df,on='Date',how='inner').merge(SP500_df,on='Date',how='inner')\n",
    "\n",
    "print('----------------------------------------------**AVIATION**----------------------------------------------------------')\n",
    "aviation_df.head()\n",
    "print('----------------------------------------------**ALL STOCKS MASTER FILE**----------------------------------------------------------')\n",
    "AllStocks_df.head()"
   ]
  },
  {
   "cell_type": "code",
   "execution_count": null,
   "metadata": {
    "id": "DNJb8s6kpPbV"
   },
   "outputs": [],
   "source": [
    "# AllStocks_df.to_csv(\"AllStocks_df.csv\") we have to run this later to create file"
   ]
  },
  {
   "cell_type": "code",
   "execution_count": null,
   "metadata": {
    "_cell_guid": "72b6f724-a60c-4e0d-b627-e1bfdc7ed820",
    "_uuid": "a611da02-43f1-4e0c-ab2a-1f1a648a329d",
    "execution": {
     "iopub.execute_input": "2021-07-09T05:00:54.499055Z",
     "iopub.status.busy": "2021-07-09T05:00:54.498448Z",
     "iopub.status.idle": "2021-07-09T05:00:54.502355Z",
     "shell.execute_reply": "2021-07-09T05:00:54.501741Z",
     "shell.execute_reply.started": "2021-07-09T05:00:04.751994Z"
    },
    "id": "lightweight-brighton",
    "jupyter": {
     "outputs_hidden": false
    },
    "outputId": "52bc4eaf-e587-4d70-f6c4-6276be3ec9f8",
    "papermill": {
     "duration": 0.047788,
     "end_time": "2021-07-09T05:00:54.502511",
     "exception": false,
     "start_time": "2021-07-09T05:00:54.454723",
     "status": "completed"
    },
    "scrolled": true,
    "tags": []
   },
   "outputs": [],
   "source": [
    "# show basic information of data\n",
    "# Checking the shape of the dataframe\n",
    "AllStocks_df.shape"
   ]
  },
  {
   "cell_type": "code",
   "execution_count": null,
   "metadata": {
    "id": "61fa7a51",
    "outputId": "94ff69a9-4708-4ede-b643-208cb77e018d"
   },
   "outputs": [],
   "source": [
    "# Dropping duplicate rows\n",
    "AllStocks_df.drop_duplicates()"
   ]
  },
  {
   "cell_type": "markdown",
   "metadata": {
    "id": "ff1d3a4d"
   },
   "source": [
    "There are no dulicates coloumns found !"
   ]
  },
  {
   "cell_type": "markdown",
   "metadata": {
    "id": "2ba4d90b"
   },
   "source": [
    "Since we do not need first 5 years data, we shall make a new dataframe for all the stocks with only last 5 years data - From 01/10/2015 to 30/09/2020"
   ]
  },
  {
   "cell_type": "markdown",
   "metadata": {
    "id": "145a4525"
   },
   "source": [
    "### Changing Datatype of Date Field to Datetime for Time-Series analysis"
   ]
  },
  {
   "cell_type": "code",
   "execution_count": null,
   "metadata": {
    "id": "41b33af8"
   },
   "outputs": [],
   "source": [
    "AllStocks_df['Date']= pd.to_datetime(AllStocks_df['Date'],infer_datetime_format=True)\n",
    "AllStocks_df=AllStocks_df[(AllStocks_df['Date']>= '2015-10-01') & (AllStocks_df['Date']<= '2020-09-30')]"
   ]
  },
  {
   "cell_type": "code",
   "execution_count": null,
   "metadata": {
    "id": "c0a5c5ee",
    "outputId": "2dd31708-ad7d-47e6-81d6-3be4029098a3"
   },
   "outputs": [],
   "source": [
    "AllStocks_df.shape"
   ]
  },
  {
   "cell_type": "markdown",
   "metadata": {
    "id": "6d8527a6"
   },
   "source": [
    "#### Checking the datatypes\n"
   ]
  },
  {
   "cell_type": "code",
   "execution_count": null,
   "metadata": {
    "id": "38a8995b",
    "outputId": "968b8c5e-5c81-4fa2-d5f6-e09d5bf13eaf"
   },
   "outputs": [],
   "source": [
    "AllStocks_df.info()"
   ]
  },
  {
   "cell_type": "code",
   "execution_count": null,
   "metadata": {
    "id": "c5ee0b14",
    "outputId": "581e235b-8c0f-4be1-c1b2-c3699b388e3d",
    "scrolled": true
   },
   "outputs": [],
   "source": [
    "\n",
    "print('Obeservation: No missing data in ALLStock_df') if sum(AllStocks_df.isnull().sum()) == 0 else (AllStocks_df.isnull().sum())/len(AllStocks_df)"
   ]
  },
  {
   "cell_type": "markdown",
   "metadata": {
    "_cell_guid": "8af44964-74a0-4d17-88e9-ec09bcec6277",
    "_uuid": "ba96fa39-7a49-43d3-a056-9e6d7c4da0be",
    "id": "alert-privacy",
    "papermill": {
     "duration": 0.029621,
     "end_time": "2021-07-09T05:00:54.664277",
     "exception": false,
     "start_time": "2021-07-09T05:00:54.634656",
     "status": "completed"
    },
    "tags": []
   },
   "source": [
    "From the above observation, noted that\n",
    "\n",
    "1. There are no Nulls or missing values in the final data set. \n",
    "\n",
    "2. Data frame has 1259 rows and 51 columns. \n",
    "\n",
    "3. Data types are in datetime, int & float types "
   ]
  },
  {
   "cell_type": "markdown",
   "metadata": {
    "_cell_guid": "83bcc39d-2107-452e-87a6-dc5484bd8fed",
    "_uuid": "426c4f87-b4b0-4ce4-bc3a-45b96daf482b",
    "id": "optional-shift",
    "papermill": {
     "duration": 0.026679,
     "end_time": "2021-07-09T05:00:55.637214",
     "exception": false,
     "start_time": "2021-07-09T05:00:55.610535",
     "status": "completed"
    },
    "tags": []
   },
   "source": [
    "#### Data cleaning and manipulation is completed. Hence, data is now ready to be analysed. \n",
    "\n"
   ]
  },
  {
   "cell_type": "markdown",
   "metadata": {
    "id": "italic-truth",
    "papermill": {
     "duration": 0.028779,
     "end_time": "2021-07-09T05:00:55.692978",
     "exception": false,
     "start_time": "2021-07-09T05:00:55.664199",
     "status": "completed"
    },
    "tags": []
   },
   "source": [
    "# STEP 4: ANALYZE\n",
    "\n",
    "#### 4.1 Perform calculations\n",
    "\n",
    "Pulling the statistics of dataset for analysis:\n",
    "* count - no. of rows\n",
    "* mean (average)\n",
    "* std (standard deviation)\n",
    "* min and max\n",
    "* percentiles 25%, 50%, 75%, 90%, 95% and 99%"
   ]
  },
  {
   "cell_type": "code",
   "execution_count": null,
   "metadata": {
    "id": "b09b67c7",
    "outputId": "55088d75-4532-47d7-cb14-b099737be34b",
    "scrolled": true
   },
   "outputs": [],
   "source": [
    "# pull General Statistical Information\n",
    "#AllStocks_df.describe()\n",
    "AllStocks_df.describe(percentiles=[.25, .5, .75, .90, .95, .99]).round(2)"
   ]
  },
  {
   "cell_type": "markdown",
   "metadata": {
    "id": "Nf8079n3sF0g"
   },
   "source": [
    "# Observation "
   ]
  },
  {
   "cell_type": "code",
   "execution_count": null,
   "metadata": {
    "id": "906fc975"
   },
   "outputs": [],
   "source": [
    "# Converting the Date column into index for exploring the data \n",
    "AllStocks_df = AllStocks_df.set_index('Date')\n",
    "AllStocks_df=AllStocks_df.sort_index(ascending=True)"
   ]
  },
  {
   "cell_type": "code",
   "execution_count": null,
   "metadata": {
    "id": "4d89ba79",
    "outputId": "2d944b07-10b5-4be5-c0d2-dd7f943096fe"
   },
   "outputs": [],
   "source": [
    "# Checking the dataframe\n",
    "AllStocks_df.head()"
   ]
  },
  {
   "cell_type": "code",
   "execution_count": null,
   "metadata": {
    "id": "22d75d2f"
   },
   "outputs": [],
   "source": [
    "### Converting original dataframe to 2 different dataframs based on Volume and Price Rate\n",
    "AllStocks_Price = AllStocks_df[['Close_AAL','Close_ALGT','Close_ALK','Close_DAL','Close_HA','Close_LUV','Close_BCS','Close_CS','Close_DB','Close_GS','Close_MS','Close_WFC','Close_BHC','Close_JNJ','Close_MRK','Close_PFE','Close_RHHBY','Close_UNH','Close_AAPL','Close_AMZN','Close_FB','Close_GOOG','Close_IBM','Close_MSFT','Close_SP500']]\n",
    "AllStocks_Vol = AllStocks_df[['Volume_AAL','Volume_ALGT','Volume_ALK','Volume_DAL','Volume_HA','Volume_LUV','Volume_BCS','Volume_CS','Volume_DB','Volume_GS','Volume_MS','Volume_WFC','Volume_BHC','Volume_JNJ','Volume_MRK','Volume_PFE','Volume_RHHBY','Volume_UNH','Volume_AAPL','Volume_AMZN','Volume_FB','Volume_GOOG','Volume_IBM','Volume_MSFT','Volume_SP500']]"
   ]
  },
  {
   "cell_type": "code",
   "execution_count": null,
   "metadata": {
    "id": "7d97e489",
    "outputId": "4b7658b0-fbd1-4a65-f57b-6dcb867ac1b7"
   },
   "outputs": [],
   "source": [
    "# Checking outliers at 25%, 50%, 75%, 90%, 95% and 99%\n",
    "AllStocks_Price.describe(percentiles=[.25, .5, .75, .90, .95, .99]).round(2)"
   ]
  },
  {
   "cell_type": "code",
   "execution_count": null,
   "metadata": {
    "id": "9c10e679"
   },
   "outputs": [],
   "source": [
    "from IPython.core.interactiveshell import InteractiveShell\n",
    "InteractiveShell.ast_node_interactivity = \"last_expr\""
   ]
  },
  {
   "cell_type": "markdown",
   "metadata": {
    "id": "premium-officer",
    "papermill": {
     "duration": 0.02716,
     "end_time": "2021-07-09T05:00:55.914676",
     "exception": false,
     "start_time": "2021-07-09T05:00:55.887516",
     "status": "completed"
    },
    "tags": []
   },
   "source": [
    "# STEP 5: SHARE\n",
    "\n",
    "In this step, we are creating visualizations and communicating our findings based on our analysis.\n",
    "\n",
    "#### 5.1 Data Visualisation and Findings"
   ]
  },
  {
   "cell_type": "code",
   "execution_count": null,
   "metadata": {
    "id": "6db7146d",
    "outputId": "d745601c-0b77-407b-92f2-e9a2be426990"
   },
   "outputs": [],
   "source": [
    "#Plotting the correlation of Stock Prices\n",
    "plt.figure(figsize = (20,8))\n",
    "sns.heatmap(AllStocks_Price.corr(),annot = True)\n",
    "plt.show()"
   ]
  },
  {
   "cell_type": "markdown",
   "metadata": {
    "id": "ievrqp3xtp9R"
   },
   "source": [
    "#### Observation:\n",
    "1. Strong Positive Correlation (0.6 to 1): Apple, Amazon, Google, Goldman Sachs, J&J, Merck & Co\n",
    "2. Weak Positive Correlation (0 to 0.6): American Airlines, Alaska Air, Hawaiian Holdings.\n",
    "3. Negative Correlation (0 to -1): Bausch Health, Credit Suisse, Deutsche Bank.\n",
    "4. Ideally, the stocks that have negative correlation with the Index (S&P 500) should be avoided in the portfolio since they may prove to be very risky.\n",
    "\n"
   ]
  },
  {
   "cell_type": "code",
   "execution_count": null,
   "metadata": {
    "id": "6546cc4e",
    "outputId": "e55ca692-0dff-4ec2-8596-915ec56a3991"
   },
   "outputs": [],
   "source": [
    "#Plotting the correlation of Stock Volume\n",
    "plt.figure(figsize = (20,8))\n",
    "sns.heatmap(AllStocks_Vol.corr(),annot = True)\n",
    "plt.show()"
   ]
  },
  {
   "cell_type": "markdown",
   "metadata": {
    "id": "Xcwas0S8vMcF"
   },
   "source": [
    "#### Obervation :  \n",
    "1. S&P500 has a positve correlation with all the stock except with BHC\n",
    "2. Correlation of more than 0.6 can be observed in the volumes of DAL, WFC, MS, and the highest is with MSFT - 0.71."
   ]
  },
  {
   "cell_type": "code",
   "execution_count": null,
   "metadata": {
    "id": "31ae90c3",
    "outputId": "9125b1dd-d81a-4fff-99ec-14ea680550bc"
   },
   "outputs": [],
   "source": [
    "#Plotting the histogram plots of the Volumes of Stocks\n",
    "plt.figure(figsize = (30,30))\n",
    "plt.tight_layout()\n",
    "feature = AllStocks_Vol.columns\n",
    "for i in enumerate(feature):\n",
    "    plt.subplot(5,5, i[0]+1)\n",
    "    sns.distplot(AllStocks_Vol[i[1]],hist=True)\n",
    "    \n",
    "plt.suptitle(\"Variation in Volume of Stocks\",y=0.93)\n",
    "plt.show()"
   ]
  },
  {
   "cell_type": "markdown",
   "metadata": {
    "id": "T0YXuUAnw2_4"
   },
   "source": [
    "#### Observation: \n",
    "1. Higher the standard deviation, more volatile is the stock. So, in the above figures a volatile stock will cover more area.\n",
    "2. ALGT, DAL, HA, CS, GS, MS, WFC, BHC, RHBY, AAPL, GOOG, IBM --> Volatility can be seen in these stocks."
   ]
  },
  {
   "cell_type": "code",
   "execution_count": null,
   "metadata": {
    "id": "6624748d",
    "outputId": "3a7f1337-98c4-4754-847a-f973b1efb65e"
   },
   "outputs": [],
   "source": [
    "#Creating Sub-plots to visualize the stocks volume\n",
    "AllStocks_Vol.plot(kind = 'line',subplots=True, layout = (7,4),figsize=(20,20))\n",
    "plt.tight_layout()\n",
    "plt.suptitle(\"Variation in Volume of Stocks\",y=1.05)\n",
    "plt.show()"
   ]
  },
  {
   "cell_type": "markdown",
   "metadata": {
    "id": "Bc5NiO0Jxp0d"
   },
   "source": [
    "##### Observation: \n",
    "1. AAPL, DAL, LUV ---> the volumes have gone up in 2019-20\n",
    "2. Trading volumes have gone down in ALK, BCS, DB, BHC, JNJ and PFE.\n",
    "3. The volume movement in most technology stocks is observed in sync with S&P 500."
   ]
  },
  {
   "cell_type": "code",
   "execution_count": null,
   "metadata": {
    "id": "724c201d",
    "outputId": "2bf5e9d5-8974-4db3-de21-1b1fe05c85c4",
    "scrolled": true
   },
   "outputs": [],
   "source": [
    "#Creating Sub-plots to visualize the stocks movement\n",
    "AllStocks_Price.plot(kind = 'line',subplots=True, layout = (7,4),figsize=(20,20))\n",
    "plt.tight_layout()\n",
    "plt.suptitle(\"Variation in Closing Price of Stocks\",y=1.05)\n",
    "plt.show()"
   ]
  },
  {
   "cell_type": "markdown",
   "metadata": {
    "id": "CN0XiVwWynaW"
   },
   "source": [
    "##### Observation:\n",
    "1. We should consider stocks that have a positive movement suggesting that the price has increased during the given period\n",
    "2. Also, it suggests that the prices are expected to show an uptrend in the future.\n",
    "3. The price of aviation and banking stocks has gone down. The highest drop in the prices can be observed in DB and BHC."
   ]
  },
  {
   "cell_type": "markdown",
   "metadata": {
    "id": "7DD_g0A1z3LR"
   },
   "source": [
    "### Normalisation: \n",
    "The stock prices of various stocks here are on different scales. Hence, we need to perform normalisation to have them on the same scale for analysis"
   ]
  },
  {
   "cell_type": "code",
   "execution_count": null,
   "metadata": {
    "id": "5585bb5c",
    "outputId": "0cc9a0d8-6c64-4fe4-dd31-c4ed12e34f52"
   },
   "outputs": [],
   "source": [
    "# Replicating the original dataframe for this purpose\n",
    "AllStocks_Price_Normalized=AllStocks_Price.copy()\n",
    "\n",
    "# Checking the data\n",
    "AllStocks_Price_Normalized.head()"
   ]
  },
  {
   "cell_type": "code",
   "execution_count": null,
   "metadata": {
    "id": "d66871d8",
    "outputId": "c4047d62-f7ae-4c4b-ca95-700f0a70a934"
   },
   "outputs": [],
   "source": [
    "# Normalizing the Data \n",
    "for column in AllStocks_Price_Normalized.columns:\n",
    "     AllStocks_Price_Normalized[column] = AllStocks_Price_Normalized[column]  / AllStocks_Price_Normalized[column][0]\n",
    "        \n",
    "# Checking the dataframe after normalization\n",
    "AllStocks_Price_Normalized.head()"
   ]
  },
  {
   "cell_type": "markdown",
   "metadata": {
    "id": "1DHH8tnL0D_-"
   },
   "source": [
    "#### Observation: \n",
    "After normalization,  the values are in the range of -1 to 1."
   ]
  },
  {
   "cell_type": "markdown",
   "metadata": {
    "id": "ybtG99a60Sxm"
   },
   "source": [
    "**Now we will observe the visualisation of normalised data - as it becomes easier for us to compare the performance.**"
   ]
  },
  {
   "cell_type": "code",
   "execution_count": null,
   "metadata": {
    "id": "baef6e8c",
    "outputId": "1e8ea021-8cd9-4ec3-8ae5-b5438a8d75f1"
   },
   "outputs": [],
   "source": [
    "# Plotting Normalized Stock Prices against Index\n",
    "plt.figure(figsize=(20,30))\n",
    "plt.subplot(4,3,1)\n",
    "sns.lineplot(data = AllStocks_Price_Normalized[['Close_AAL','Close_ALGT','Close_SP500']])\n",
    "plt.legend(loc='best')\n",
    "plt.tight_layout()\n",
    "plt.subplot(4,3,2)\n",
    "sns.lineplot(data = AllStocks_Price_Normalized[['Close_ALK','Close_DAL','Close_SP500']])\n",
    "plt.legend(loc='best')\n",
    "plt.tight_layout()\n",
    "plt.subplot(4,3,3)\n",
    "sns.lineplot(data = AllStocks_Price_Normalized[['Close_HA','Close_LUV','Close_SP500']])\n",
    "plt.legend(loc='best')\n",
    "plt.tight_layout()\n",
    "plt.subplot(4,3,4)\n",
    "sns.lineplot(data = AllStocks_Price_Normalized[['Close_BCS','Close_CS','Close_SP500']])\n",
    "plt.legend(loc='best')\n",
    "plt.tight_layout()\n",
    "plt.subplot(4,3,5)\n",
    "sns.lineplot(data = AllStocks_Price_Normalized[['Close_DB','Close_GS','Close_SP500']])\n",
    "plt.legend(loc='best')\n",
    "plt.tight_layout()\n",
    "plt.subplot(4,3,6)\n",
    "sns.lineplot(data = AllStocks_Price_Normalized[['Close_MS','Close_WFC','Close_SP500']])\n",
    "plt.legend(loc='best')\n",
    "plt.tight_layout()\n",
    "plt.subplot(4,3,7)\n",
    "sns.lineplot(data = AllStocks_Price_Normalized[['Close_BHC','Close_JNJ','Close_SP500']])\n",
    "plt.legend(loc='best')\n",
    "plt.tight_layout()\n",
    "plt.subplot(4,3,8)\n",
    "sns.lineplot(data = AllStocks_Price_Normalized[['Close_MRK','Close_PFE','Close_SP500']])\n",
    "plt.legend(loc='best')\n",
    "plt.tight_layout()\n",
    "plt.subplot(4,3,9)\n",
    "sns.lineplot(data = AllStocks_Price_Normalized[['Close_RHHBY','Close_UNH','Close_SP500']])\n",
    "plt.legend(loc='best')\n",
    "plt.tight_layout()\n",
    "plt.subplot(4,3,10)\n",
    "sns.lineplot(data = AllStocks_Price_Normalized[['Close_AAPL','Close_AMZN','Close_SP500']])\n",
    "plt.legend(loc='best')\n",
    "plt.tight_layout()\n",
    "plt.subplot(4,3,11)\n",
    "sns.lineplot(data = AllStocks_Price_Normalized[['Close_FB','Close_GOOG','Close_SP500']])\n",
    "plt.legend(loc='best')\n",
    "plt.tight_layout()\n",
    "plt.subplot(4,3,12)\n",
    "sns.lineplot(data = AllStocks_Price_Normalized[['Close_IBM','Close_MSFT','Close_SP500']])\n",
    "plt.legend(loc='best')\n",
    "plt.tight_layout()\n",
    "plt.suptitle(\"Stocks Movement v/s Index\",y=1.05)\n",
    "plt.show()"
   ]
  },
  {
   "cell_type": "markdown",
   "metadata": {
    "id": "eFNOVieS0cVI"
   },
   "source": [
    "#### Observation:\n",
    "1. MSFT< GOOG, FB, AAPL, AMZN are showing an uptrend, whereas IBM is showing a downtrend.\n",
    "2. In healthcare - BHC and PFE are showing a downtrend\n",
    "3. In Finance - DB, BCS, CS and WFC are showing a downtrend\n",
    "4. In avaiation - HA, DAL, AAL are showing a downtrend."
   ]
  },
  {
   "cell_type": "markdown",
   "metadata": {
    "id": "18cca943"
   },
   "source": [
    "### **Daily retunrs**"
   ]
  },
  {
   "cell_type": "code",
   "execution_count": null,
   "metadata": {
    "id": "7be8d335",
    "outputId": "7d0d44f8-b667-4a41-bf58-f9b82e07d305"
   },
   "outputs": [],
   "source": [
    "AllStocks_Price_returns = AllStocks_Price.pct_change()\n",
    "\n",
    "AllStocks_Price_returns = round((AllStocks_Price_returns[1:]*100),2)\n",
    "AllStocks_Price_returns.head()"
   ]
  },
  {
   "cell_type": "code",
   "execution_count": null,
   "metadata": {
    "id": "b119e0ae",
    "outputId": "2cf11dc3-a3bc-4a94-95a0-cdcf4bc4aea1"
   },
   "outputs": [],
   "source": [
    "plt.figure(figsize=(15,15))\n",
    "plt.subplot(2,2,1)\n",
    "sns.distplot(AllStocks_Price_returns[['Close_AAL']],hist=True,label=\"AAL_Return\")\n",
    "sns.distplot(AllStocks_Price_returns[['Close_ALGT']],hist=True,label=\"ALGT_Return\")\n",
    "sns.distplot(AllStocks_Price_returns[['Close_ALK']],hist=True,label=\"ALK_Return\")\n",
    "sns.distplot(AllStocks_Price_returns[['Close_DAL']],hist=True,label=\"DAL_Return\")\n",
    "sns.distplot(AllStocks_Price_returns[['Close_HA']],hist=True,label=\"HA_Return\")\n",
    "sns.distplot(AllStocks_Price_returns[['Close_LUV']],hist=True,label=\"LUV_Return\")\n",
    "plt.legend()\n",
    "plt.subplot(2,2,2)\n",
    "sns.distplot(AllStocks_Price_returns[['Close_BCS']],hist=True,label=\"AAL_Return\")\n",
    "sns.distplot(AllStocks_Price_returns[['Close_CS']],hist=True,label=\"CS_Return\")\n",
    "sns.distplot(AllStocks_Price_returns[['Close_DB']],hist=True,label=\"DB_Return\")\n",
    "sns.distplot(AllStocks_Price_returns[['Close_GS']],hist=True,label=\"GS_Return\")\n",
    "sns.distplot(AllStocks_Price_returns[['Close_MS']],hist=True,label=\"MS_Return\")\n",
    "sns.distplot(AllStocks_Price_returns[['Close_WFC']],hist=True,label=\"WFC_Return\")\n",
    "plt.legend()\n",
    "plt.subplot(2,2,3)\n",
    "sns.distplot(AllStocks_Price_returns[['Close_BHC']],hist=True,label=\"BHC_Return\")\n",
    "sns.distplot(AllStocks_Price_returns[['Close_JNJ']],hist=True,label=\"JNJ_Return\")\n",
    "sns.distplot(AllStocks_Price_returns[['Close_MRK']],hist=True,label=\"MRK_Return\")\n",
    "sns.distplot(AllStocks_Price_returns[['Close_PFE']],hist=True,label=\"PFE_Return\")\n",
    "sns.distplot(AllStocks_Price_returns[['Close_RHHBY']],hist=True,label=\"RHHBY_Return\")\n",
    "sns.distplot(AllStocks_Price_returns[['Close_UNH']],hist=True,label=\"UNH_Return\")\n",
    "plt.legend()\n",
    "plt.subplot(2,2,4)\n",
    "sns.distplot(AllStocks_Price_returns[['Close_AAPL']],hist=True,label=\"AAPL_Return\")\n",
    "sns.distplot(AllStocks_Price_returns[['Close_AMZN']],hist=True,label=\"AMZN_Return\")\n",
    "sns.distplot(AllStocks_Price_returns[['Close_FB']],hist=True,label=\"FB_Return\")\n",
    "sns.distplot(AllStocks_Price_returns[['Close_GOOG']],hist=True,label=\"GOOG_Return\")\n",
    "sns.distplot(AllStocks_Price_returns[['Close_IBM']],hist=True,label=\"IBM_Return\")\n",
    "sns.distplot(AllStocks_Price_returns[['Close_MSFT']],hist=True,label=\"MSFT_Return\")\n",
    "plt.legend()\n",
    "plt.suptitle(\"Stock Price Spread/Volatility\",y=0.95)\n",
    "plt.show()"
   ]
  },
  {
   "cell_type": "markdown",
   "metadata": {
    "id": "b9b1f50c"
   },
   "source": [
    "#### Relative Stock Price  - Change in Stock Price wrt Index"
   ]
  },
  {
   "cell_type": "code",
   "execution_count": null,
   "metadata": {
    "id": "681a889c"
   },
   "outputs": [],
   "source": [
    "AllStockvsIndex = AllStocks_Price.copy()\n",
    "for column in AllStockvsIndex.columns:\n",
    "    AllStockvsIndex[column] = AllStockvsIndex[column]/AllStockvsIndex['Close_SP500']"
   ]
  },
  {
   "cell_type": "code",
   "execution_count": null,
   "metadata": {
    "id": "e9a79f34",
    "outputId": "2ef3765d-00a1-4ca7-8e51-fe3f16d0dc09"
   },
   "outputs": [],
   "source": [
    "# Checking the data\n",
    "AllStockvsIndex.head()"
   ]
  },
  {
   "cell_type": "code",
   "execution_count": null,
   "metadata": {
    "id": "3c719558",
    "outputId": "741cb908-0a41-4db6-b122-003160f6d799"
   },
   "outputs": [],
   "source": [
    "# Plotting the Relative Stock Price change \n",
    "AllStockvsIndex.plot(kind = 'line',subplots=True, layout = (7,4),figsize=(20,20))\n",
    "plt.tight_layout()\n",
    "plt.suptitle(\"Relative Stock Prices wrt Market Index\",y=1.05)"
   ]
  },
  {
   "cell_type": "code",
   "execution_count": null,
   "metadata": {
    "id": "ce51bce3",
    "outputId": "fe7aef58-078d-4f48-ef90-edaefe139c08"
   },
   "outputs": [],
   "source": [
    "# Checking the statistical values for daily returns of stocks\n",
    "AllStocks_Price_returns.describe()"
   ]
  },
  {
   "cell_type": "markdown",
   "metadata": {
    "id": "fd9a3b69"
   },
   "source": [
    "### Annualized Risk, Annualized Returns, Cumulative Returns and Sharpe Ratio"
   ]
  },
  {
   "cell_type": "code",
   "execution_count": null,
   "metadata": {
    "id": "UtL7KifriSLO"
   },
   "outputs": [],
   "source": []
  },
  {
   "cell_type": "markdown",
   "metadata": {
    "id": "IGPdGi0wiU9G"
   },
   "source": [
    "![880f7022-89bc-4edf-ae10-ced012d0c4d1-Capstone_Project_DA_BA (Portfolio) (3).jpg](data:image/jpeg;base64,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)![03e2d26e-1f31-4f06-b552-adbefe6cb4d6-Capstone_Project_DA_BA (Portfolio) (1).jpg](data:image/jpeg;base64,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)![2f9c28c8-cb8c-429a-8955-b459a02f0928-Capstone_Project_DA_BA (Portfolio) (5).jpg](data:image/jpeg;base64,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)![2afd3740-2473-4176-8b12-93a5da0dd67e-Capstone_Project_DA_BA (Portfolio) (4).jpg](data:image/jpeg;base64,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)"
   ]
  },
  {
   "cell_type": "code",
   "execution_count": null,
   "metadata": {
    "id": "8aaa0390"
   },
   "outputs": [],
   "source": [
    "#Calculating Annualized_Returns\n",
    "\n",
    "Annualized_Returns = []\n",
    "col=[]\n",
    "\n",
    "for i in AllStocks_Price_returns.columns:\n",
    "    col.append(i)\n",
    "\n",
    "for i in AllStocks_Price_returns.columns:\n",
    "    Annualized_Returns.append(AllStocks_Price_returns[i].mean()*252)"
   ]
  },
  {
   "cell_type": "code",
   "execution_count": null,
   "metadata": {
    "id": "bfd9d930"
   },
   "outputs": [],
   "source": [
    "# Creating a dataframe and stocks values for each stock\n",
    "Annualized_df=pd.DataFrame(list(zip(col,Annualized_Returns)),columns =['Stocks', 'AnnualizedReturns'])"
   ]
  },
  {
   "cell_type": "code",
   "execution_count": null,
   "metadata": {
    "id": "e98ba5e2"
   },
   "outputs": [],
   "source": [
    "# Renaming the names of stocks\n",
    "for i in Annualized_df.index:\n",
    "    Annualized_df['Stocks'][i]=Annualized_df['Stocks'][i].replace(\"Close_\",\"\")"
   ]
  },
  {
   "cell_type": "code",
   "execution_count": null,
   "metadata": {
    "id": "a5e2a35c",
    "outputId": "affe83ec-9432-401b-d384-b4d8caefde5f"
   },
   "outputs": [],
   "source": [
    "# Checking the data\n",
    "Annualized_df"
   ]
  },
  {
   "cell_type": "markdown",
   "metadata": {
    "id": "nGvTJt6i2jcs"
   },
   "source": [
    "#### Observation:\n",
    "1. All tech stocks have given positive returns except IBM. The highest returns have been given by AMZN followed by MSFT followed by AAPL.\n",
    "2. Highest negative return was in health care - BHC to the tune of -22%.\n",
    "3. In healthcare, UNH has given highest positive return - 23%.\n",
    "4. In Finance, barring GS and MS, all stocks have given negative returns.\n",
    "5. The lowest positive  returns have been observed in Aviation industry - HA at 0.88%, followed by DAL at 1.06%"
   ]
  },
  {
   "cell_type": "code",
   "execution_count": null,
   "metadata": {
    "id": "006d0125"
   },
   "outputs": [],
   "source": [
    "#Calculating Annualized_Risk\n",
    "Annualized_Risk = []\n",
    "\n",
    "for i in AllStocks_Price_returns.columns:\n",
    "    Annualized_Risk.append(AllStocks_Price_returns[i].std()*np.sqrt(252))\n",
    "    "
   ]
  },
  {
   "cell_type": "code",
   "execution_count": null,
   "metadata": {
    "id": "35359912"
   },
   "outputs": [],
   "source": [
    "# Adding Annualized Risk column to the dataframe\n",
    "Annualized_df['AnnualizedRisk']= Annualized_Risk"
   ]
  },
  {
   "cell_type": "code",
   "execution_count": null,
   "metadata": {
    "id": "111499af",
    "outputId": "9a0e7aa8-4f9e-4530-a79c-6f0dd348907e"
   },
   "outputs": [],
   "source": [
    "# Checking the data\n",
    "Annualized_df"
   ]
  },
  {
   "cell_type": "markdown",
   "metadata": {
    "id": "QafGm9cw3mhS"
   },
   "source": [
    "#### Observation: \n",
    "1. In aviation industry, the risk is high, whereas the returns are low or negative\n",
    "2. In BHC, the annualised risk is highest, giving us highest negative returns - 22%.\n",
    "3. Technology stocks have compparatively lower risk and higher returns\n",
    "4. We should consider risk factor while making a portfolio, since though there could be an uptrend, there could be higher risk involved too."
   ]
  },
  {
   "cell_type": "code",
   "execution_count": null,
   "metadata": {
    "id": "43422d08"
   },
   "outputs": [],
   "source": [
    "#Calculating Cummulative_returns\n",
    "\n",
    "Cumulative_ret =[]\n",
    "for i in AllStocks_Price_returns.columns:\n",
    "    Cumulative_ret.append(AllStocks_Price[i][-1]/AllStocks_Price[i][0]-1)"
   ]
  },
  {
   "cell_type": "code",
   "execution_count": null,
   "metadata": {
    "id": "8e4a643e"
   },
   "outputs": [],
   "source": [
    "# Adding Cumulative_ret column to the dataframe\n",
    "Annualized_df['Cumulative_ret']= Cumulative_ret"
   ]
  },
  {
   "cell_type": "code",
   "execution_count": null,
   "metadata": {
    "id": "49997835"
   },
   "outputs": [],
   "source": [
    "Annualized_df['Cumulative_ret']=round(Annualized_df['Cumulative_ret'],4)*100"
   ]
  },
  {
   "cell_type": "code",
   "execution_count": null,
   "metadata": {
    "id": "b762a1b0",
    "outputId": "4851febc-ca5c-42d7-bc1d-e56e7aa46033"
   },
   "outputs": [],
   "source": [
    "# Checking the data\n",
    "Annualized_df.head()"
   ]
  },
  {
   "cell_type": "code",
   "execution_count": null,
   "metadata": {
    "id": "b9db58af"
   },
   "outputs": [],
   "source": [
    "#Calculating Sharpe Ratio with 0.75% rfr\n",
    "Annualized_df['Sharpe_Ratio'] = (Annualized_df['AnnualizedReturns']-0.0075)/Annualized_df['AnnualizedRisk']"
   ]
  },
  {
   "cell_type": "code",
   "execution_count": null,
   "metadata": {
    "id": "1cc34af5",
    "outputId": "febaf34f-8303-4274-ef4f-54e52e2bc1a6"
   },
   "outputs": [],
   "source": [
    "# checking the data\n",
    "Annualized_df"
   ]
  },
  {
   "cell_type": "code",
   "execution_count": null,
   "metadata": {
    "id": "a4b2583b",
    "outputId": "ec1dadc0-51e7-4468-a187-e9babb95cc91"
   },
   "outputs": [],
   "source": [
    "# Getting rid of the Stocks having negetive Annualized returns\n",
    "newAnnualized_df=Annualized_df.loc[(Annualized_df.AnnualizedReturns > 0.0)]\n",
    "newAnnualized_df"
   ]
  },
  {
   "cell_type": "markdown",
   "metadata": {
    "id": "SqgRkm4V4lG0"
   },
   "source": [
    "#### Observation: \n",
    "1. Highest cumulative returns have been provided by technology stocks except IBM.\n",
    "2. To be in sync with the investment goals of the investors, we will not include any stocks giving negative returns in the portfolio."
   ]
  },
  {
   "cell_type": "code",
   "execution_count": null,
   "metadata": {
    "id": "16d7c8a4",
    "outputId": "cc9aee2d-af6d-4b34-90af-7234ed54487a"
   },
   "outputs": [],
   "source": [
    "# Getting rid of the Stocks having negetive Cummulative returns\n",
    "newAnnualized_df=newAnnualized_df.loc[(Annualized_df.Cumulative_ret > 0)]\n",
    "newAnnualized_df"
   ]
  },
  {
   "cell_type": "code",
   "execution_count": null,
   "metadata": {
    "id": "2c016fd7",
    "outputId": "c7a9f88a-6142-4cfb-9289-92e76f265cc1"
   },
   "outputs": [],
   "source": [
    "newAnnualized_df.sort_values(by=['Sharpe_Ratio'],ascending=[False])"
   ]
  },
  {
   "cell_type": "markdown",
   "metadata": {
    "id": "VcV1evE-5UqP"
   },
   "source": [
    "#### Observation: \n",
    "The ideal sharpe ratio is 1 and above. Stocks with negative sharpe ratio should not be included in the portfolio.\n"
   ]
  },
  {
   "cell_type": "markdown",
   "metadata": {
    "id": "legislative-reform",
    "papermill": {
     "duration": 0.039344,
     "end_time": "2021-07-09T05:00:57.638878",
     "exception": false,
     "start_time": "2021-07-09T05:00:57.599534",
     "status": "completed"
    },
    "tags": []
   },
   "source": [
    "# STEP 6: ACT\n",
    "\n",
    "In the final step, we will be delivering our insights and providing recommendations based on our analysis. \n",
    "\n",
    "***\n",
    "\n",
    "**Aggressive Portfolio for Peter:**\n",
    "Peter's portfolio, though aggressive, we have made it a point that he gets an exposure to all industries.\n",
    "Since he is young and willing to take risks, we have given him a well diversified portfolio.\n",
    "\n",
    "1. AMZN- 15%\n",
    "2. MSFT - 15%\n",
    "3. Apple - 12%\n",
    "4. FB - 10%\n",
    "5. Google - 8%\n",
    "5. MRk - 12% \n",
    "6. JNJ - 10%\n",
    "7. RHHBY - 10%\n",
    "8. GS - 5%\n",
    "9. PFE - 5%\n",
    "\n",
    "\n",
    "**Conservative Porfollio for Patrick** \n",
    "Conservative portfolio with lower risk and good returns\n",
    "\n",
    "1. AMZN- 15%\n",
    "2. MSFT - 17%\n",
    "3. Apple - 12%\n",
    "4. Google - 12%\n",
    "5. MRk - 10% \n",
    "6. JNJ - 10%\n",
    "7. RHHBY - 12%\n",
    "8. GS - 4%\n",
    "9. PFE - 8%"
   ]
  },
  {
   "cell_type": "code",
   "execution_count": null,
   "metadata": {
    "id": "ks77cOM79GIM"
   },
   "outputs": [],
   "source": []
  }
 ],
 "metadata": {
  "kernelspec": {
   "display_name": "Python 3 (ipykernel)",
   "language": "python",
   "name": "python3"
  },
  "language_info": {
   "codemirror_mode": {
    "name": "ipython",
    "version": 3
   },
   "file_extension": ".py",
   "mimetype": "text/x-python",
   "name": "python",
   "nbconvert_exporter": "python",
   "pygments_lexer": "ipython3",
   "version": "3.10.9"
  }
 },
 "nbformat": 4,
 "nbformat_minor": 4
}
